{
  "nbformat": 4,
  "nbformat_minor": 0,
  "metadata": {
    "colab": {
      "provenance": []
    },
    "kernelspec": {
      "name": "python3",
      "display_name": "Python 3"
    },
    "language_info": {
      "name": "python"
    },
    "accelerator": "GPU",
    "gpuClass": "standard"
  },
  "cells": [
    {
      "cell_type": "code",
      "execution_count": 1,
      "metadata": {
        "colab": {
          "base_uri": "https://localhost:8080/"
        },
        "id": "3w4wWvzhF3Kv",
        "outputId": "98fb4f6a-83cc-49fa-f30f-7e03f9194525"
      },
      "outputs": [
        {
          "output_type": "stream",
          "name": "stdout",
          "text": [
            "Looking in indexes: https://pypi.org/simple, https://us-python.pkg.dev/colab-wheels/public/simple/\n",
            "Requirement already satisfied: requests in /usr/local/lib/python3.8/dist-packages (2.23.0)\n",
            "Requirement already satisfied: chardet<4,>=3.0.2 in /usr/local/lib/python3.8/dist-packages (from requests) (3.0.4)\n",
            "Requirement already satisfied: idna<3,>=2.5 in /usr/local/lib/python3.8/dist-packages (from requests) (2.10)\n",
            "Requirement already satisfied: urllib3!=1.25.0,!=1.25.1,<1.26,>=1.21.1 in /usr/local/lib/python3.8/dist-packages (from requests) (1.24.3)\n",
            "Requirement already satisfied: certifi>=2017.4.17 in /usr/local/lib/python3.8/dist-packages (from requests) (2022.9.24)\n",
            "Looking in indexes: https://pypi.org/simple, https://us-python.pkg.dev/colab-wheels/public/simple/\n",
            "Requirement already satisfied: bs4 in /usr/local/lib/python3.8/dist-packages (0.0.1)\n",
            "Requirement already satisfied: beautifulsoup4 in /usr/local/lib/python3.8/dist-packages (from bs4) (4.6.3)\n",
            "Looking in indexes: https://pypi.org/simple, https://us-python.pkg.dev/colab-wheels/public/simple/\n",
            "Collecting selenium\n",
            "  Downloading selenium-4.7.2-py3-none-any.whl (6.3 MB)\n",
            "\u001b[K     |████████████████████████████████| 6.3 MB 12.0 MB/s \n",
            "\u001b[?25hCollecting urllib3[socks]~=1.26\n",
            "  Downloading urllib3-1.26.13-py2.py3-none-any.whl (140 kB)\n",
            "\u001b[K     |████████████████████████████████| 140 kB 46.1 MB/s \n",
            "\u001b[?25hCollecting trio~=0.17\n",
            "  Downloading trio-0.22.0-py3-none-any.whl (384 kB)\n",
            "\u001b[K     |████████████████████████████████| 384 kB 48.5 MB/s \n",
            "\u001b[?25hRequirement already satisfied: certifi>=2021.10.8 in /usr/local/lib/python3.8/dist-packages (from selenium) (2022.9.24)\n",
            "Collecting trio-websocket~=0.9\n",
            "  Downloading trio_websocket-0.9.2-py3-none-any.whl (16 kB)\n",
            "Collecting async-generator>=1.9\n",
            "  Downloading async_generator-1.10-py3-none-any.whl (18 kB)\n",
            "Requirement already satisfied: attrs>=19.2.0 in /usr/local/lib/python3.8/dist-packages (from trio~=0.17->selenium) (22.1.0)\n",
            "Collecting outcome\n",
            "  Downloading outcome-1.2.0-py2.py3-none-any.whl (9.7 kB)\n",
            "Requirement already satisfied: sortedcontainers in /usr/local/lib/python3.8/dist-packages (from trio~=0.17->selenium) (2.4.0)\n",
            "Collecting sniffio\n",
            "  Downloading sniffio-1.3.0-py3-none-any.whl (10 kB)\n",
            "Collecting exceptiongroup>=1.0.0rc9\n",
            "  Downloading exceptiongroup-1.0.4-py3-none-any.whl (14 kB)\n",
            "Requirement already satisfied: idna in /usr/local/lib/python3.8/dist-packages (from trio~=0.17->selenium) (2.10)\n",
            "Collecting wsproto>=0.14\n",
            "  Downloading wsproto-1.2.0-py3-none-any.whl (24 kB)\n",
            "Requirement already satisfied: PySocks!=1.5.7,<2.0,>=1.5.6 in /usr/local/lib/python3.8/dist-packages (from urllib3[socks]~=1.26->selenium) (1.7.1)\n",
            "Collecting h11<1,>=0.9.0\n",
            "  Downloading h11-0.14.0-py3-none-any.whl (58 kB)\n",
            "\u001b[K     |████████████████████████████████| 58 kB 2.6 MB/s \n",
            "\u001b[?25hInstalling collected packages: sniffio, outcome, h11, exceptiongroup, async-generator, wsproto, urllib3, trio, trio-websocket, selenium\n",
            "  Attempting uninstall: urllib3\n",
            "    Found existing installation: urllib3 1.24.3\n",
            "    Uninstalling urllib3-1.24.3:\n",
            "      Successfully uninstalled urllib3-1.24.3\n",
            "\u001b[31mERROR: pip's dependency resolver does not currently take into account all the packages that are installed. This behaviour is the source of the following dependency conflicts.\n",
            "requests 2.23.0 requires urllib3!=1.25.0,!=1.25.1,<1.26,>=1.21.1, but you have urllib3 1.26.13 which is incompatible.\u001b[0m\n",
            "Successfully installed async-generator-1.10 exceptiongroup-1.0.4 h11-0.14.0 outcome-1.2.0 selenium-4.7.2 sniffio-1.3.0 trio-0.22.0 trio-websocket-0.9.2 urllib3-1.26.13 wsproto-1.2.0\n",
            "Get:1 https://cloud.r-project.org/bin/linux/ubuntu bionic-cran40/ InRelease [3,626 B]\n",
            "Get:2 http://ppa.launchpad.net/c2d4u.team/c2d4u4.0+/ubuntu bionic InRelease [15.9 kB]\n",
            "Get:3 http://security.ubuntu.com/ubuntu bionic-security InRelease [88.7 kB]\n",
            "Hit:4 http://archive.ubuntu.com/ubuntu bionic InRelease\n",
            "Ign:5 https://developer.download.nvidia.com/compute/machine-learning/repos/ubuntu1804/x86_64  InRelease\n",
            "Get:6 https://developer.download.nvidia.com/compute/cuda/repos/ubuntu1804/x86_64  InRelease [1,581 B]\n",
            "Hit:7 https://developer.download.nvidia.com/compute/machine-learning/repos/ubuntu1804/x86_64  Release\n",
            "Get:8 http://archive.ubuntu.com/ubuntu bionic-updates InRelease [88.7 kB]\n",
            "Hit:9 http://ppa.launchpad.net/cran/libgit2/ubuntu bionic InRelease\n",
            "Get:10 https://developer.download.nvidia.com/compute/cuda/repos/ubuntu1804/x86_64  Packages [1,056 kB]\n",
            "Hit:12 http://ppa.launchpad.net/deadsnakes/ppa/ubuntu bionic InRelease\n",
            "Get:13 http://archive.ubuntu.com/ubuntu bionic-backports InRelease [83.3 kB]\n",
            "Get:14 http://ppa.launchpad.net/graphics-drivers/ppa/ubuntu bionic InRelease [21.3 kB]\n",
            "Get:15 http://security.ubuntu.com/ubuntu bionic-security/multiverse amd64 Packages [22.9 kB]\n",
            "Get:16 http://security.ubuntu.com/ubuntu bionic-security/universe amd64 Packages [1,567 kB]\n",
            "Get:17 http://archive.ubuntu.com/ubuntu bionic-updates/main amd64 Packages [3,519 kB]\n",
            "Get:18 http://ppa.launchpad.net/c2d4u.team/c2d4u4.0+/ubuntu bionic/main Sources [2,234 kB]\n",
            "Get:19 http://security.ubuntu.com/ubuntu bionic-security/restricted amd64 Packages [1,307 kB]\n",
            "Get:20 http://security.ubuntu.com/ubuntu bionic-security/main amd64 Packages [3,094 kB]\n",
            "Get:21 http://archive.ubuntu.com/ubuntu bionic-updates/universe amd64 Packages [2,342 kB]\n",
            "Get:22 http://archive.ubuntu.com/ubuntu bionic-updates/multiverse amd64 Packages [30.0 kB]\n",
            "Get:23 http://archive.ubuntu.com/ubuntu bionic-updates/restricted amd64 Packages [1,347 kB]\n",
            "Get:24 http://ppa.launchpad.net/c2d4u.team/c2d4u4.0+/ubuntu bionic/main amd64 Packages [1,143 kB]\n",
            "Get:25 http://ppa.launchpad.net/graphics-drivers/ppa/ubuntu bionic/main amd64 Packages [40.8 kB]\n",
            "Fetched 18.0 MB in 6s (3,171 kB/s)\n",
            "Reading package lists... Done\n",
            "Reading package lists... Done\n",
            "Building dependency tree       \n",
            "Reading state information... Done\n",
            "The following package was automatically installed and is no longer required:\n",
            "  libnvidia-common-460\n",
            "Use 'apt autoremove' to remove it.\n",
            "The following additional packages will be installed:\n",
            "  chromium-browser chromium-browser-l10n chromium-codecs-ffmpeg-extra\n",
            "Suggested packages:\n",
            "  webaccounts-chromium-extension unity-chromium-extension\n",
            "The following NEW packages will be installed:\n",
            "  chromium-browser chromium-browser-l10n chromium-chromedriver\n",
            "  chromium-codecs-ffmpeg-extra\n",
            "0 upgraded, 4 newly installed, 0 to remove and 19 not upgraded.\n",
            "Need to get 95.1 MB of archives.\n",
            "After this operation, 319 MB of additional disk space will be used.\n",
            "Get:1 http://archive.ubuntu.com/ubuntu bionic-updates/universe amd64 chromium-codecs-ffmpeg-extra amd64 107.0.5304.87-0ubuntu11.18.04.1 [1,158 kB]\n",
            "Get:2 http://archive.ubuntu.com/ubuntu bionic-updates/universe amd64 chromium-browser amd64 107.0.5304.87-0ubuntu11.18.04.1 [83.1 MB]\n",
            "Get:3 http://archive.ubuntu.com/ubuntu bionic-updates/universe amd64 chromium-browser-l10n all 107.0.5304.87-0ubuntu11.18.04.1 [5,260 kB]\n",
            "Get:4 http://archive.ubuntu.com/ubuntu bionic-updates/universe amd64 chromium-chromedriver amd64 107.0.5304.87-0ubuntu11.18.04.1 [5,570 kB]\n",
            "Fetched 95.1 MB in 10s (9,900 kB/s)\n",
            "Selecting previously unselected package chromium-codecs-ffmpeg-extra.\n",
            "(Reading database ... 124015 files and directories currently installed.)\n",
            "Preparing to unpack .../chromium-codecs-ffmpeg-extra_107.0.5304.87-0ubuntu11.18.04.1_amd64.deb ...\n",
            "Unpacking chromium-codecs-ffmpeg-extra (107.0.5304.87-0ubuntu11.18.04.1) ...\n",
            "Selecting previously unselected package chromium-browser.\n",
            "Preparing to unpack .../chromium-browser_107.0.5304.87-0ubuntu11.18.04.1_amd64.deb ...\n",
            "Unpacking chromium-browser (107.0.5304.87-0ubuntu11.18.04.1) ...\n",
            "Selecting previously unselected package chromium-browser-l10n.\n",
            "Preparing to unpack .../chromium-browser-l10n_107.0.5304.87-0ubuntu11.18.04.1_all.deb ...\n",
            "Unpacking chromium-browser-l10n (107.0.5304.87-0ubuntu11.18.04.1) ...\n",
            "Selecting previously unselected package chromium-chromedriver.\n",
            "Preparing to unpack .../chromium-chromedriver_107.0.5304.87-0ubuntu11.18.04.1_amd64.deb ...\n",
            "Unpacking chromium-chromedriver (107.0.5304.87-0ubuntu11.18.04.1) ...\n",
            "Setting up chromium-codecs-ffmpeg-extra (107.0.5304.87-0ubuntu11.18.04.1) ...\n",
            "Setting up chromium-browser (107.0.5304.87-0ubuntu11.18.04.1) ...\n",
            "update-alternatives: using /usr/bin/chromium-browser to provide /usr/bin/x-www-browser (x-www-browser) in auto mode\n",
            "update-alternatives: using /usr/bin/chromium-browser to provide /usr/bin/gnome-www-browser (gnome-www-browser) in auto mode\n",
            "Setting up chromium-chromedriver (107.0.5304.87-0ubuntu11.18.04.1) ...\n",
            "Setting up chromium-browser-l10n (107.0.5304.87-0ubuntu11.18.04.1) ...\n",
            "Processing triggers for man-db (2.8.3-2ubuntu0.1) ...\n",
            "Processing triggers for hicolor-icon-theme (0.17-2) ...\n",
            "Processing triggers for mime-support (3.60ubuntu1) ...\n",
            "Processing triggers for libc-bin (2.27-3ubuntu1.6) ...\n",
            "Looking in indexes: https://pypi.org/simple, https://us-python.pkg.dev/colab-wheels/public/simple/\n",
            "Collecting chromedriver-py\n",
            "  Downloading chromedriver_py-109.0.5414.25-py3-none-any.whl (31.5 MB)\n",
            "\u001b[K     |████████████████████████████████| 31.5 MB 1.2 MB/s \n",
            "\u001b[?25hInstalling collected packages: chromedriver-py\n",
            "Successfully installed chromedriver-py-109.0.5414.25\n",
            "cp: '/usr/lib/chromium-browser/chromedriver' and '/usr/bin/chromedriver' are the same file\n",
            "Looking in indexes: https://pypi.org/simple, https://us-python.pkg.dev/colab-wheels/public/simple/\n",
            "Requirement already satisfied: tqdm in /usr/local/lib/python3.8/dist-packages (4.64.1)\n"
          ]
        }
      ],
      "source": [
        "!pip install requests\n",
        "!pip install bs4\n",
        "!pip install selenium\n",
        "!apt-get update\n",
        "!apt install chromium-chromedriver\n",
        "!pip install chromedriver-py\n",
        "!cp /usr/lib/chromium-browser/chromedriver /usr/bin\n",
        "!pip install tqdm"
      ]
    },
    {
      "cell_type": "code",
      "source": [
        "import requests\n",
        "from bs4 import BeautifulSoup as soup\n",
        "from selenium import webdriver\n",
        "from selenium.webdriver.common.keys import Keys\n",
        "import pandas as pd\n",
        "import json\n",
        "from google.colab import drive\n",
        "import sys\n",
        "import spacy\n",
        "from tqdm import tqdm\n",
        "import urllib.request"
      ],
      "metadata": {
        "id": "flx1XDcKGaXG",
        "colab": {
          "base_uri": "https://localhost:8080/"
        },
        "outputId": "9a7c1ef9-7cf7-439b-812f-2e678e22205f"
      },
      "execution_count": 2,
      "outputs": [
        {
          "output_type": "stream",
          "name": "stderr",
          "text": [
            "/usr/local/lib/python3.8/dist-packages/requests/__init__.py:89: RequestsDependencyWarning: urllib3 (1.26.13) or chardet (3.0.4) doesn't match a supported version!\n",
            "  warnings.warn(\"urllib3 ({}) or chardet ({}) doesn't match a supported \"\n"
          ]
        }
      ]
    },
    {
      "cell_type": "code",
      "source": [
        "urls=[\n",
        "    'https://millercenter.org/the-presidency/presidential-speeches/november-12-1921-opening-speech-conference-limitation-armament',\n",
        "'https://millercenter.org/the-presidency/presidential-speeches/december-6-1921-first-annual-message',\n",
        "'https://millercenter.org/the-presidency/presidential-speeches/december-8-1922-second-annual-message',\n",
        "'https://millercenter.org/the-presidency/presidential-speeches/may-23-1921-speech-upon-arrival-world-war-one-dead-burial',\n",
        "'https://millercenter.org/the-presidency/presidential-speeches/july-22-1920-american-soldier',\n",
        "'https://millercenter.org/the-presidency/presidential-speeches/september-11-1919-safeguarding-america',\n",
        "'https://millercenter.org/the-presidency/presidential-speeches/june-1-1812-special-message-congress-foreign-policy-crisis-war',\n",
        "'https://millercenter.org/the-presidency/presidential-speeches/june-19-1812-proclamation-state-war-great-britain',\n",
        "'https://millercenter.org/the-presidency/presidential-speeches/may-25-1813-message-special-congressional-session-state-war',\n",
        "'https://millercenter.org/the-presidency/presidential-speeches/september-1-1814-proclamation-upon-british-depredations',\n",
        "'https://millercenter.org/the-presidency/presidential-speeches/july-23-1813-proclamation-day-public-humiliation-and-prayer',\n",
        "'https://millercenter.org/the-presidency/presidential-speeches/may-19-1917-message-regarding-military-draft',\n",
        "'https://millercenter.org/the-presidency/presidential-speeches/april-17-1917-message-regarding-world-war-i',\n",
        "'https://millercenter.org/the-presidency/presidential-speeches/april-6-1917-proclamation-1364',\n",
        "'https://millercenter.org/the-presidency/presidential-speeches/april-2-1917-address-congress-requesting-declaration-war',\n",
        "'https://millercenter.org/the-presidency/presidential-speeches/february-26-1917-message-regarding-safety-merchant-ships',\n",
        "'https://millercenter.org/the-presidency/presidential-speeches/january-22-1917-world-league-peace-speech',\n",
        "'https://millercenter.org/the-presidency/presidential-speeches/july-12-1900-speech-accepting-republican-nomination',\n",
        "'https://millercenter.org/the-presidency/presidential-speeches/april-23-1898-proclamation-calling-military-volunteers',\n",
        "'https://millercenter.org/the-presidency/presidential-speeches/april-22-1898-proclamation-regarding-blockade-cuba',\n",
        "'https://millercenter.org/the-presidency/presidential-speeches/april-11-1898-message-regarding-cuban-civil-war',\n",
        "'https://millercenter.org/the-presidency/presidential-speeches/may-17-1897-message-regarding-relief-americans-cuba',\n",
        "'https://millercenter.org/the-presidency/presidential-speeches/february-8-1849-message-regarding-treaty-guadalupe-hidalgo',\n",
        "'https://millercenter.org/the-presidency/presidential-speeches/january-2-1849-message-regarding-war-time-measures',\n",
        "'https://millercenter.org/the-presidency/presidential-speeches/august-14-1848-message-regarding-slavery-territories',\n",
        "'https://millercenter.org/the-presidency/presidential-speeches/august-1-1848-message-regarding-size-army',\n",
        "'https://millercenter.org/the-presidency/presidential-speeches/july-6-1848-message-regarding-treaty-guadalupe-hidalgo',\n",
        "'https://millercenter.org/the-presidency/presidential-speeches/july-4-1848-announcement-peace-treaty-mexico',\n",
        "'https://millercenter.org/the-presidency/presidential-speeches/february-13-1847-message-regarding-war-mexico',\n",
        "'https://millercenter.org/the-presidency/presidential-speeches/january-28-1861-message-resolutions-virginia',\n",
        "'https://millercenter.org/the-presidency/presidential-speeches/march-1-1861-message-regarding-presence-troops-washington-dc',\n",
        "'https://millercenter.org/the-presidency/presidential-speeches/january-8-1861-message-threats-peace-and-existence-union',\n",
        "'https://millercenter.org/the-presidency/presidential-speeches/march-28-1860-protest-congressional-investigations',\n",
        "'https://millercenter.org/the-presidency/presidential-speeches/february-18-1859-special-message-regarding-transit-across',\n",
        "'https://millercenter.org/the-presidency/presidential-speeches/january-13-1875-message-regarding-intervention-louisiana',\n",
        "'https://millercenter.org/the-presidency/presidential-speeches/september-15-1874-proclamation-regarding-disturbances',\n",
        "'https://millercenter.org/the-presidency/presidential-speeches/december-19-1871-message-civil-service-reform',\n",
        "'https://millercenter.org/the-presidency/presidential-speeches/october-17-1871-proclamation-suspending-habeas-corpus',\n",
        "'https://millercenter.org/the-presidency/presidential-speeches/august-22-1870-proclamation-establishing-us-neutrality',\n",
        "'https://millercenter.org/the-presidency/presidential-speeches/june-13-1870-message-regarding-insurrection-cuba',\n",
        "'https://millercenter.org/the-presidency/presidential-speeches/july-14-1870-message-regarding-us-international-relations'\n",
        "]\n",
        "text_data = []\n",
        "i = 0\n",
        "for url in tqdm(urls):\n",
        "  try:\n",
        "    response = requests.get(url)\n",
        "    Bsoup = soup(response.content, \"html.parser\")\n",
        "    text_data.append(Bsoup.find(\"div\", {\"class\" : \"view-transcript\"}).text)\n",
        "  except AttributeError:\n",
        "    print(\"\\n **AttributeError occured at {}\\n\".format(i))\n",
        "  except:\n",
        "    print(\"\\n **Something else on {}\\n\".format(i))\n",
        "  i+=1\n",
        "\n",
        "# try:\n",
        "#   print(x)\n",
        "# except:\n",
        "#   print(\"An exception occurred\")\n",
        "url_df = urls[:]"
      ],
      "metadata": {
        "colab": {
          "base_uri": "https://localhost:8080/"
        },
        "id": "zs4wHEg8nB7E",
        "outputId": "23d29cef-d88c-497a-aa5c-db88368cc477"
      },
      "execution_count": 3,
      "outputs": [
        {
          "output_type": "stream",
          "name": "stderr",
          "text": [
            "100%|██████████| 41/41 [01:20<00:00,  1.95s/it]\n"
          ]
        }
      ]
    },
    {
      "cell_type": "code",
      "source": [
        "leaders = ['Warren G. Harding '] * 6\n",
        "leaders.extend(['James Madison'] * 5)\n",
        "# Woodrow Wilson\n",
        "leaders.extend(['Woodrow Wilson'] * 6)\n",
        "#  William McKinley\n",
        "leaders.extend(['William Mckinley'] * 5)\n",
        "# James K Polk\n",
        "leaders.extend(['James K. Polk'] * 7)\n",
        "# James Buchanan\n",
        "leaders.extend(['James Buchanan'] * 5)\n",
        "# Ulysses S. Grant\n",
        "leaders.extend(['Ulysses S. Grant'] * 7)\n",
        "leaders.extend(['Winston Churchill'] * 4)\n",
        "leaders.extend(['Adolf Hitler'] * 4)"
      ],
      "metadata": {
        "id": "gxU-zHpD4U2h"
      },
      "execution_count": 4,
      "outputs": []
    },
    {
      "cell_type": "code",
      "source": [
        "import re\n",
        "# as per recommendation from @freylis, compile once only\n",
        "CLEANR = re.compile('<.*?>') \n",
        "\n",
        "def cleanhtml(raw_html):\n",
        "  cleantext = re.sub(CLEANR, '', raw_html)\n",
        "  return cleantext"
      ],
      "metadata": {
        "id": "PMkb5Qp7ukwS"
      },
      "execution_count": 5,
      "outputs": []
    },
    {
      "cell_type": "code",
      "source": [
        "# providing url\n",
        "urls = [\n",
        "'https://www.speeches-usa.com/Transcripts/winston_churchill-blood.html',\n",
        "'https://www.speeches-usa.com/Transcripts/winston_churchill-dunkirk.html',\n",
        "'https://www.speeches-usa.com/Transcripts/winston_churchill-finest.html',\n",
        "'https://www.speeches-usa.com/Transcripts/winston_churchill-ironcurtain.html'\n",
        "]\n",
        "for url in tqdm(urls):\n",
        "  # opening the url for reading\n",
        "  html = urllib.request.urlopen(url)\n",
        "\n",
        "  # parsing the html file\n",
        "  htmlParse = soup(html, 'html.parser')\n",
        "  text = ''\n",
        "  # getting all the paragraphs\n",
        "  for para in htmlParse.find_all(\"p\"):\n",
        "    text += para.get_text()\n",
        "  \n",
        "  text_data.append(cleanhtml(text)[:-260])\n",
        "  \n",
        "\n",
        "url_df.extend(urls)"
      ],
      "metadata": {
        "colab": {
          "base_uri": "https://localhost:8080/"
        },
        "id": "Nid-BJmAlfJi",
        "outputId": "f39106bc-2078-4e3a-e140-6d9e0120262c"
      },
      "execution_count": 6,
      "outputs": [
        {
          "output_type": "stream",
          "name": "stderr",
          "text": [
            "100%|██████████| 4/4 [00:04<00:00,  1.17s/it]\n"
          ]
        }
      ]
    },
    {
      "cell_type": "code",
      "source": [
        "# providing url\n",
        "urls = [\n",
        "    # 'https://hitler.org/speeches/04-12-22.html',\n",
        "    # 'https://hitler.org/speeches/07-28-22.html',\n",
        "    'https://hitler.org/speeches/09-18-22.html',\n",
        "    'https://hitler.org/speeches/04-10-23.html',\n",
        "    'https://hitler.org/speeches/04-24-23.html',\n",
        "    'https://hitler.org/speeches/04-27-23.html'\n",
        "]\n",
        "for url in tqdm(urls):\n",
        "  # opening the url for reading\n",
        "  html = urllib.request.urlopen(url)\n",
        "\n",
        "  # parsing the html file\n",
        "  htmlParse = soup(html, 'html.parser')\n",
        "  text = ''\n",
        "  # getting all the paragraphs\n",
        "  for para in htmlParse.find_all(\"p\"):\n",
        "    text += para.get_text()\n",
        "  \n",
        "  text_data.append(text)\n",
        "\n",
        "url_df.extend(urls)"
      ],
      "metadata": {
        "colab": {
          "base_uri": "https://localhost:8080/"
        },
        "id": "IM0sDcp0mrFZ",
        "outputId": "5262b934-4a6c-4de9-feba-e73c3e921172"
      },
      "execution_count": 7,
      "outputs": [
        {
          "output_type": "stream",
          "name": "stderr",
          "text": [
            "100%|██████████| 4/4 [00:02<00:00,  1.53it/s]\n"
          ]
        }
      ]
    },
    {
      "cell_type": "code",
      "source": [
        "url_df"
      ],
      "metadata": {
        "colab": {
          "base_uri": "https://localhost:8080/"
        },
        "id": "4ZoNXwntpQob",
        "outputId": "8ff20354-e573-4da6-cd33-4593b1ac2e48"
      },
      "execution_count": null,
      "outputs": [
        {
          "output_type": "execute_result",
          "data": {
            "text/plain": [
              "['https://millercenter.org/the-presidency/presidential-speeches/november-12-1921-opening-speech-conference-limitation-armament',\n",
              " 'https://millercenter.org/the-presidency/presidential-speeches/december-6-1921-first-annual-message',\n",
              " 'https://millercenter.org/the-presidency/presidential-speeches/december-8-1922-second-annual-message',\n",
              " 'https://millercenter.org/the-presidency/presidential-speeches/may-23-1921-speech-upon-arrival-world-war-one-dead-burial',\n",
              " 'https://millercenter.org/the-presidency/presidential-speeches/july-22-1920-american-soldier',\n",
              " 'https://millercenter.org/the-presidency/presidential-speeches/september-11-1919-safeguarding-america',\n",
              " 'https://millercenter.org/the-presidency/presidential-speeches/june-1-1812-special-message-congress-foreign-policy-crisis-war',\n",
              " 'https://millercenter.org/the-presidency/presidential-speeches/june-19-1812-proclamation-state-war-great-britain',\n",
              " 'https://millercenter.org/the-presidency/presidential-speeches/may-25-1813-message-special-congressional-session-state-war',\n",
              " 'https://millercenter.org/the-presidency/presidential-speeches/september-1-1814-proclamation-upon-british-depredations',\n",
              " 'https://millercenter.org/the-presidency/presidential-speeches/july-23-1813-proclamation-day-public-humiliation-and-prayer',\n",
              " 'https://millercenter.org/the-presidency/presidential-speeches/may-19-1917-message-regarding-military-draft',\n",
              " 'https://millercenter.org/the-presidency/presidential-speeches/april-17-1917-message-regarding-world-war-i',\n",
              " 'https://millercenter.org/the-presidency/presidential-speeches/april-6-1917-proclamation-1364',\n",
              " 'https://millercenter.org/the-presidency/presidential-speeches/april-2-1917-address-congress-requesting-declaration-war',\n",
              " 'https://millercenter.org/the-presidency/presidential-speeches/february-26-1917-message-regarding-safety-merchant-ships',\n",
              " 'https://millercenter.org/the-presidency/presidential-speeches/january-22-1917-world-league-peace-speech',\n",
              " 'https://millercenter.org/the-presidency/presidential-speeches/july-12-1900-speech-accepting-republican-nomination',\n",
              " 'https://millercenter.org/the-presidency/presidential-speeches/april-23-1898-proclamation-calling-military-volunteers',\n",
              " 'https://millercenter.org/the-presidency/presidential-speeches/april-22-1898-proclamation-regarding-blockade-cuba',\n",
              " 'https://millercenter.org/the-presidency/presidential-speeches/april-11-1898-message-regarding-cuban-civil-war',\n",
              " 'https://millercenter.org/the-presidency/presidential-speeches/may-17-1897-message-regarding-relief-americans-cuba',\n",
              " 'https://millercenter.org/the-presidency/presidential-speeches/february-8-1849-message-regarding-treaty-guadalupe-hidalgo',\n",
              " 'https://millercenter.org/the-presidency/presidential-speeches/january-2-1849-message-regarding-war-time-measures',\n",
              " 'https://millercenter.org/the-presidency/presidential-speeches/august-14-1848-message-regarding-slavery-territories',\n",
              " 'https://millercenter.org/the-presidency/presidential-speeches/august-1-1848-message-regarding-size-army',\n",
              " 'https://millercenter.org/the-presidency/presidential-speeches/july-6-1848-message-regarding-treaty-guadalupe-hidalgo',\n",
              " 'https://millercenter.org/the-presidency/presidential-speeches/july-4-1848-announcement-peace-treaty-mexico',\n",
              " 'https://millercenter.org/the-presidency/presidential-speeches/february-13-1847-message-regarding-war-mexico',\n",
              " 'https://millercenter.org/the-presidency/presidential-speeches/january-28-1861-message-resolutions-virginia',\n",
              " 'https://millercenter.org/the-presidency/presidential-speeches/march-1-1861-message-regarding-presence-troops-washington-dc',\n",
              " 'https://millercenter.org/the-presidency/presidential-speeches/january-8-1861-message-threats-peace-and-existence-union',\n",
              " 'https://millercenter.org/the-presidency/presidential-speeches/march-28-1860-protest-congressional-investigations',\n",
              " 'https://millercenter.org/the-presidency/presidential-speeches/february-18-1859-special-message-regarding-transit-across',\n",
              " 'https://millercenter.org/the-presidency/presidential-speeches/january-13-1875-message-regarding-intervention-louisiana',\n",
              " 'https://millercenter.org/the-presidency/presidential-speeches/september-15-1874-proclamation-regarding-disturbances',\n",
              " 'https://millercenter.org/the-presidency/presidential-speeches/december-19-1871-message-civil-service-reform',\n",
              " 'https://millercenter.org/the-presidency/presidential-speeches/october-17-1871-proclamation-suspending-habeas-corpus',\n",
              " 'https://millercenter.org/the-presidency/presidential-speeches/august-22-1870-proclamation-establishing-us-neutrality',\n",
              " 'https://millercenter.org/the-presidency/presidential-speeches/june-13-1870-message-regarding-insurrection-cuba',\n",
              " 'https://millercenter.org/the-presidency/presidential-speeches/july-14-1870-message-regarding-us-international-relations',\n",
              " 'https://www.speeches-usa.com/Transcripts/winston_churchill-blood.html',\n",
              " 'https://www.speeches-usa.com/Transcripts/winston_churchill-dunkirk.html',\n",
              " 'https://www.speeches-usa.com/Transcripts/winston_churchill-finest.html',\n",
              " 'https://www.speeches-usa.com/Transcripts/winston_churchill-ironcurtain.html',\n",
              " 'https://hitler.org/speeches/09-18-22.html',\n",
              " 'https://hitler.org/speeches/04-10-23.html',\n",
              " 'https://hitler.org/speeches/04-24-23.html',\n",
              " 'https://hitler.org/speeches/04-27-23.html']"
            ]
          },
          "metadata": {},
          "execution_count": 9
        }
      ]
    },
    {
      "cell_type": "markdown",
      "source": [
        "# Merging all data"
      ],
      "metadata": {
        "id": "T57x24T4mDTp"
      }
    },
    {
      "cell_type": "code",
      "source": [
        "!pip install vaderSentiment"
      ],
      "metadata": {
        "colab": {
          "base_uri": "https://localhost:8080/",
          "height": 453
        },
        "id": "NuABA94JWCM4",
        "outputId": "91aec0c5-4345-48dc-daa3-9882e554e3a1"
      },
      "execution_count": 8,
      "outputs": [
        {
          "output_type": "stream",
          "name": "stdout",
          "text": [
            "Looking in indexes: https://pypi.org/simple, https://us-python.pkg.dev/colab-wheels/public/simple/\n",
            "Collecting vaderSentiment\n",
            "  Downloading vaderSentiment-3.3.2-py2.py3-none-any.whl (125 kB)\n",
            "\u001b[K     |████████████████████████████████| 125 kB 32.7 MB/s \n",
            "\u001b[?25hRequirement already satisfied: requests in /usr/local/lib/python3.8/dist-packages (from vaderSentiment) (2.23.0)\n",
            "Collecting urllib3!=1.25.0,!=1.25.1,<1.26,>=1.21.1\n",
            "  Downloading urllib3-1.25.11-py2.py3-none-any.whl (127 kB)\n",
            "\u001b[K     |████████████████████████████████| 127 kB 53.2 MB/s \n",
            "\u001b[?25hRequirement already satisfied: idna<3,>=2.5 in /usr/local/lib/python3.8/dist-packages (from requests->vaderSentiment) (2.10)\n",
            "Requirement already satisfied: chardet<4,>=3.0.2 in /usr/local/lib/python3.8/dist-packages (from requests->vaderSentiment) (3.0.4)\n",
            "Requirement already satisfied: certifi>=2017.4.17 in /usr/local/lib/python3.8/dist-packages (from requests->vaderSentiment) (2022.9.24)\n",
            "Installing collected packages: urllib3, vaderSentiment\n",
            "  Attempting uninstall: urllib3\n",
            "    Found existing installation: urllib3 1.26.13\n",
            "    Uninstalling urllib3-1.26.13:\n",
            "      Successfully uninstalled urllib3-1.26.13\n",
            "\u001b[31mERROR: pip's dependency resolver does not currently take into account all the packages that are installed. This behaviour is the source of the following dependency conflicts.\n",
            "selenium 4.7.2 requires urllib3[socks]~=1.26, but you have urllib3 1.25.11 which is incompatible.\u001b[0m\n",
            "Successfully installed urllib3-1.25.11 vaderSentiment-3.3.2\n"
          ]
        },
        {
          "output_type": "display_data",
          "data": {
            "application/vnd.colab-display-data+json": {
              "pip_warning": {
                "packages": [
                  "urllib3"
                ]
              }
            }
          },
          "metadata": {}
        }
      ]
    },
    {
      "cell_type": "code",
      "source": [
        "link_df2 = pd.read_csv('/content/ssm_speeches_dataframe.csv')\n",
        "link_df2=link_df2.drop([\"web_domain\", \"Unnamed: 0\"], axis = 1)\n",
        "link_df2.rename(columns = {'links':'link', 'speeches':'text_speeches'}, inplace = True)"
      ],
      "metadata": {
        "id": "h2qqU4_-W6wc"
      },
      "execution_count": 10,
      "outputs": []
    },
    {
      "cell_type": "code",
      "source": [
        "link_df3 = pd.read_csv('/content/gs_speeched_extracted.csv')"
      ],
      "metadata": {
        "id": "T10CkK6DXHbD"
      },
      "execution_count": 11,
      "outputs": []
    },
    {
      "cell_type": "code",
      "source": [
        "url_df.extend(link_df2.link)"
      ],
      "metadata": {
        "id": "1T993BOoXTJ4"
      },
      "execution_count": 12,
      "outputs": []
    },
    {
      "cell_type": "code",
      "source": [
        "url_df.extend(link_df3.link)"
      ],
      "metadata": {
        "id": "atS-_k6VYSDx"
      },
      "execution_count": 13,
      "outputs": []
    },
    {
      "cell_type": "code",
      "source": [
        "leaders.extend(link_df2.speaker)"
      ],
      "metadata": {
        "id": "WRLJ2qE-YgCW"
      },
      "execution_count": 14,
      "outputs": []
    },
    {
      "cell_type": "code",
      "source": [
        "leaders.extend(link_df3.speaker)"
      ],
      "metadata": {
        "id": "yTJOxxu0YlX4"
      },
      "execution_count": 15,
      "outputs": []
    },
    {
      "cell_type": "code",
      "source": [
        "link_df3.head()"
      ],
      "metadata": {
        "colab": {
          "base_uri": "https://localhost:8080/",
          "height": 206
        },
        "id": "OhOZY6QQYn43",
        "outputId": "254e8146-f511-4858-a013-7c7c5a25d62e"
      },
      "execution_count": 16,
      "outputs": [
        {
          "output_type": "execute_result",
          "data": {
            "text/plain": [
              "   Unnamed: 0                                               link      speaker  \\\n",
              "0           0  https://millercenter.org/the-presidency/presid...    Joe Biden   \n",
              "1           1  https://millercenter.org/the-presidency/presid...    Joe Biden   \n",
              "2           2  https://millercenter.org/the-presidency/presid...    Joe Biden   \n",
              "3           3  https://millercenter.org/the-presidency/presid...    Joe Biden   \n",
              "4           4  https://millercenter.org/the-presidency/presid...   Joe Biden    \n",
              "\n",
              "                                       text_speeches  \n",
              "0  \\nTranscript\\nTHE PRESIDENT: My fellow America...  \n",
              "1  \\nTranscript\\nGood evening, fellow Americans.\\...  \n",
              "2  \\nTranscript\\nTHE PRESIDENT: Been a tough day....  \n",
              "3  \\nTranscript\\nTHE PRESIDENT: Thank you, thank ...  \n",
              "4  \\nTranscript\\nTHE PRESIDENT: Sorry to keep you...  "
            ],
            "text/html": [
              "\n",
              "  <div id=\"df-9cfebb58-be5a-41d5-91eb-f3ab6d88e1ce\">\n",
              "    <div class=\"colab-df-container\">\n",
              "      <div>\n",
              "<style scoped>\n",
              "    .dataframe tbody tr th:only-of-type {\n",
              "        vertical-align: middle;\n",
              "    }\n",
              "\n",
              "    .dataframe tbody tr th {\n",
              "        vertical-align: top;\n",
              "    }\n",
              "\n",
              "    .dataframe thead th {\n",
              "        text-align: right;\n",
              "    }\n",
              "</style>\n",
              "<table border=\"1\" class=\"dataframe\">\n",
              "  <thead>\n",
              "    <tr style=\"text-align: right;\">\n",
              "      <th></th>\n",
              "      <th>Unnamed: 0</th>\n",
              "      <th>link</th>\n",
              "      <th>speaker</th>\n",
              "      <th>text_speeches</th>\n",
              "    </tr>\n",
              "  </thead>\n",
              "  <tbody>\n",
              "    <tr>\n",
              "      <th>0</th>\n",
              "      <td>0</td>\n",
              "      <td>https://millercenter.org/the-presidency/presid...</td>\n",
              "      <td>Joe Biden</td>\n",
              "      <td>\\nTranscript\\nTHE PRESIDENT: My fellow America...</td>\n",
              "    </tr>\n",
              "    <tr>\n",
              "      <th>1</th>\n",
              "      <td>1</td>\n",
              "      <td>https://millercenter.org/the-presidency/presid...</td>\n",
              "      <td>Joe Biden</td>\n",
              "      <td>\\nTranscript\\nGood evening, fellow Americans.\\...</td>\n",
              "    </tr>\n",
              "    <tr>\n",
              "      <th>2</th>\n",
              "      <td>2</td>\n",
              "      <td>https://millercenter.org/the-presidency/presid...</td>\n",
              "      <td>Joe Biden</td>\n",
              "      <td>\\nTranscript\\nTHE PRESIDENT: Been a tough day....</td>\n",
              "    </tr>\n",
              "    <tr>\n",
              "      <th>3</th>\n",
              "      <td>3</td>\n",
              "      <td>https://millercenter.org/the-presidency/presid...</td>\n",
              "      <td>Joe Biden</td>\n",
              "      <td>\\nTranscript\\nTHE PRESIDENT: Thank you, thank ...</td>\n",
              "    </tr>\n",
              "    <tr>\n",
              "      <th>4</th>\n",
              "      <td>4</td>\n",
              "      <td>https://millercenter.org/the-presidency/presid...</td>\n",
              "      <td>Joe Biden</td>\n",
              "      <td>\\nTranscript\\nTHE PRESIDENT: Sorry to keep you...</td>\n",
              "    </tr>\n",
              "  </tbody>\n",
              "</table>\n",
              "</div>\n",
              "      <button class=\"colab-df-convert\" onclick=\"convertToInteractive('df-9cfebb58-be5a-41d5-91eb-f3ab6d88e1ce')\"\n",
              "              title=\"Convert this dataframe to an interactive table.\"\n",
              "              style=\"display:none;\">\n",
              "        \n",
              "  <svg xmlns=\"http://www.w3.org/2000/svg\" height=\"24px\"viewBox=\"0 0 24 24\"\n",
              "       width=\"24px\">\n",
              "    <path d=\"M0 0h24v24H0V0z\" fill=\"none\"/>\n",
              "    <path d=\"M18.56 5.44l.94 2.06.94-2.06 2.06-.94-2.06-.94-.94-2.06-.94 2.06-2.06.94zm-11 1L8.5 8.5l.94-2.06 2.06-.94-2.06-.94L8.5 2.5l-.94 2.06-2.06.94zm10 10l.94 2.06.94-2.06 2.06-.94-2.06-.94-.94-2.06-.94 2.06-2.06.94z\"/><path d=\"M17.41 7.96l-1.37-1.37c-.4-.4-.92-.59-1.43-.59-.52 0-1.04.2-1.43.59L10.3 9.45l-7.72 7.72c-.78.78-.78 2.05 0 2.83L4 21.41c.39.39.9.59 1.41.59.51 0 1.02-.2 1.41-.59l7.78-7.78 2.81-2.81c.8-.78.8-2.07 0-2.86zM5.41 20L4 18.59l7.72-7.72 1.47 1.35L5.41 20z\"/>\n",
              "  </svg>\n",
              "      </button>\n",
              "      \n",
              "  <style>\n",
              "    .colab-df-container {\n",
              "      display:flex;\n",
              "      flex-wrap:wrap;\n",
              "      gap: 12px;\n",
              "    }\n",
              "\n",
              "    .colab-df-convert {\n",
              "      background-color: #E8F0FE;\n",
              "      border: none;\n",
              "      border-radius: 50%;\n",
              "      cursor: pointer;\n",
              "      display: none;\n",
              "      fill: #1967D2;\n",
              "      height: 32px;\n",
              "      padding: 0 0 0 0;\n",
              "      width: 32px;\n",
              "    }\n",
              "\n",
              "    .colab-df-convert:hover {\n",
              "      background-color: #E2EBFA;\n",
              "      box-shadow: 0px 1px 2px rgba(60, 64, 67, 0.3), 0px 1px 3px 1px rgba(60, 64, 67, 0.15);\n",
              "      fill: #174EA6;\n",
              "    }\n",
              "\n",
              "    [theme=dark] .colab-df-convert {\n",
              "      background-color: #3B4455;\n",
              "      fill: #D2E3FC;\n",
              "    }\n",
              "\n",
              "    [theme=dark] .colab-df-convert:hover {\n",
              "      background-color: #434B5C;\n",
              "      box-shadow: 0px 1px 3px 1px rgba(0, 0, 0, 0.15);\n",
              "      filter: drop-shadow(0px 1px 2px rgba(0, 0, 0, 0.3));\n",
              "      fill: #FFFFFF;\n",
              "    }\n",
              "  </style>\n",
              "\n",
              "      <script>\n",
              "        const buttonEl =\n",
              "          document.querySelector('#df-9cfebb58-be5a-41d5-91eb-f3ab6d88e1ce button.colab-df-convert');\n",
              "        buttonEl.style.display =\n",
              "          google.colab.kernel.accessAllowed ? 'block' : 'none';\n",
              "\n",
              "        async function convertToInteractive(key) {\n",
              "          const element = document.querySelector('#df-9cfebb58-be5a-41d5-91eb-f3ab6d88e1ce');\n",
              "          const dataTable =\n",
              "            await google.colab.kernel.invokeFunction('convertToInteractive',\n",
              "                                                     [key], {});\n",
              "          if (!dataTable) return;\n",
              "\n",
              "          const docLinkHtml = 'Like what you see? Visit the ' +\n",
              "            '<a target=\"_blank\" href=https://colab.research.google.com/notebooks/data_table.ipynb>data table notebook</a>'\n",
              "            + ' to learn more about interactive tables.';\n",
              "          element.innerHTML = '';\n",
              "          dataTable['output_type'] = 'display_data';\n",
              "          await google.colab.output.renderOutput(dataTable, element);\n",
              "          const docLink = document.createElement('div');\n",
              "          docLink.innerHTML = docLinkHtml;\n",
              "          element.appendChild(docLink);\n",
              "        }\n",
              "      </script>\n",
              "    </div>\n",
              "  </div>\n",
              "  "
            ]
          },
          "metadata": {},
          "execution_count": 16
        }
      ]
    },
    {
      "cell_type": "code",
      "source": [
        "text_data.extend(link_df2.text_speeches)"
      ],
      "metadata": {
        "id": "uUGzTgueYt5b"
      },
      "execution_count": 17,
      "outputs": []
    },
    {
      "cell_type": "code",
      "source": [
        "text_data.extend(link_df3.text_speeches)"
      ],
      "metadata": {
        "id": "xtT1po_XYymk"
      },
      "execution_count": 18,
      "outputs": []
    },
    {
      "cell_type": "code",
      "source": [
        "len(leaders), len(url_df), len(text_data)"
      ],
      "metadata": {
        "colab": {
          "base_uri": "https://localhost:8080/"
        },
        "id": "TCoe1_zNY01z",
        "outputId": "cf7287d3-f6b5-4e96-e4d0-1fc1da20dda1"
      },
      "execution_count": 19,
      "outputs": [
        {
          "output_type": "execute_result",
          "data": {
            "text/plain": [
              "(114, 114, 114)"
            ]
          },
          "metadata": {},
          "execution_count": 19
        }
      ]
    },
    {
      "cell_type": "code",
      "source": [
        "data_dict = {'link' : url_df, 'speaker' : leaders, 'text_speeches' : text_data}\n",
        "\n",
        "import pandas as pd\n",
        "\n",
        "link_df = pd.DataFrame(data_dict)"
      ],
      "metadata": {
        "id": "jkZVFcsJwDnK"
      },
      "execution_count": 20,
      "outputs": []
    },
    {
      "cell_type": "code",
      "source": [
        "# link_df.to_csv('jb_speeched_extracted.csv')"
      ],
      "metadata": {
        "id": "hGpTRh9HQ89T"
      },
      "execution_count": 21,
      "outputs": []
    },
    {
      "cell_type": "code",
      "source": [
        "link_df"
      ],
      "metadata": {
        "colab": {
          "base_uri": "https://localhost:8080/",
          "height": 424
        },
        "id": "H0VBvXCuSWNA",
        "outputId": "d3243ad9-ad0e-479a-83fd-246057a683b2"
      },
      "execution_count": 22,
      "outputs": [
        {
          "output_type": "execute_result",
          "data": {
            "text/plain": [
              "                                                  link             speaker  \\\n",
              "0    https://millercenter.org/the-presidency/presid...  Warren G. Harding    \n",
              "1    https://millercenter.org/the-presidency/presid...  Warren G. Harding    \n",
              "2    https://millercenter.org/the-presidency/presid...  Warren G. Harding    \n",
              "3    https://millercenter.org/the-presidency/presid...  Warren G. Harding    \n",
              "4    https://millercenter.org/the-presidency/presid...  Warren G. Harding    \n",
              "..                                                 ...                 ...   \n",
              "109  https://millercenter.org/the-presidency/presid...         Gerald Ford   \n",
              "110  https://millercenter.org/the-presidency/presid...         Gerald Ford   \n",
              "111  https://millercenter.org/the-presidency/presid...         Gerald Ford   \n",
              "112  https://millercenter.org/the-presidency/presid...         Gerald Ford   \n",
              "113  https://millercenter.org/the-presidency/presid...         Gerald Ford   \n",
              "\n",
              "                                         text_speeches  \n",
              "0    \\n\\n\\nView Transcript\\n      \\n\\n\\n\\n\\nTranscr...  \n",
              "1    TranscriptIt is a very gratifying privilege to...  \n",
              "2    TranscriptMEMBERS OF THE CONGRESS:So many prob...  \n",
              "3    \\n\\n\\nView Transcript\\n      \\n\\n\\n\\n\\nTranscr...  \n",
              "4    \\n\\n\\nView Transcript\\n      \\n\\n\\n\\n\\nTranscr...  \n",
              "..                                                 ...  \n",
              "109  \\nTranscript\\nMr. Chairman, my distinguished c...  \n",
              "110  \\nTranscript\\nMr. President, President Hurley,...  \n",
              "111  \\nTranscript\\nMr. Speaker, Mr. President, dist...  \n",
              "112  \\nTranscript\\nThank you very much, Dr. Kleinja...  \n",
              "113  \\nTranscript\\nI have come to a decision which ...  \n",
              "\n",
              "[114 rows x 3 columns]"
            ],
            "text/html": [
              "\n",
              "  <div id=\"df-7857d9e2-b40c-49d5-9eca-e3a9dba17c4c\">\n",
              "    <div class=\"colab-df-container\">\n",
              "      <div>\n",
              "<style scoped>\n",
              "    .dataframe tbody tr th:only-of-type {\n",
              "        vertical-align: middle;\n",
              "    }\n",
              "\n",
              "    .dataframe tbody tr th {\n",
              "        vertical-align: top;\n",
              "    }\n",
              "\n",
              "    .dataframe thead th {\n",
              "        text-align: right;\n",
              "    }\n",
              "</style>\n",
              "<table border=\"1\" class=\"dataframe\">\n",
              "  <thead>\n",
              "    <tr style=\"text-align: right;\">\n",
              "      <th></th>\n",
              "      <th>link</th>\n",
              "      <th>speaker</th>\n",
              "      <th>text_speeches</th>\n",
              "    </tr>\n",
              "  </thead>\n",
              "  <tbody>\n",
              "    <tr>\n",
              "      <th>0</th>\n",
              "      <td>https://millercenter.org/the-presidency/presid...</td>\n",
              "      <td>Warren G. Harding</td>\n",
              "      <td>\\n\\n\\nView Transcript\\n      \\n\\n\\n\\n\\nTranscr...</td>\n",
              "    </tr>\n",
              "    <tr>\n",
              "      <th>1</th>\n",
              "      <td>https://millercenter.org/the-presidency/presid...</td>\n",
              "      <td>Warren G. Harding</td>\n",
              "      <td>TranscriptIt is a very gratifying privilege to...</td>\n",
              "    </tr>\n",
              "    <tr>\n",
              "      <th>2</th>\n",
              "      <td>https://millercenter.org/the-presidency/presid...</td>\n",
              "      <td>Warren G. Harding</td>\n",
              "      <td>TranscriptMEMBERS OF THE CONGRESS:So many prob...</td>\n",
              "    </tr>\n",
              "    <tr>\n",
              "      <th>3</th>\n",
              "      <td>https://millercenter.org/the-presidency/presid...</td>\n",
              "      <td>Warren G. Harding</td>\n",
              "      <td>\\n\\n\\nView Transcript\\n      \\n\\n\\n\\n\\nTranscr...</td>\n",
              "    </tr>\n",
              "    <tr>\n",
              "      <th>4</th>\n",
              "      <td>https://millercenter.org/the-presidency/presid...</td>\n",
              "      <td>Warren G. Harding</td>\n",
              "      <td>\\n\\n\\nView Transcript\\n      \\n\\n\\n\\n\\nTranscr...</td>\n",
              "    </tr>\n",
              "    <tr>\n",
              "      <th>...</th>\n",
              "      <td>...</td>\n",
              "      <td>...</td>\n",
              "      <td>...</td>\n",
              "    </tr>\n",
              "    <tr>\n",
              "      <th>109</th>\n",
              "      <td>https://millercenter.org/the-presidency/presid...</td>\n",
              "      <td>Gerald Ford</td>\n",
              "      <td>\\nTranscript\\nMr. Chairman, my distinguished c...</td>\n",
              "    </tr>\n",
              "    <tr>\n",
              "      <th>110</th>\n",
              "      <td>https://millercenter.org/the-presidency/presid...</td>\n",
              "      <td>Gerald Ford</td>\n",
              "      <td>\\nTranscript\\nMr. President, President Hurley,...</td>\n",
              "    </tr>\n",
              "    <tr>\n",
              "      <th>111</th>\n",
              "      <td>https://millercenter.org/the-presidency/presid...</td>\n",
              "      <td>Gerald Ford</td>\n",
              "      <td>\\nTranscript\\nMr. Speaker, Mr. President, dist...</td>\n",
              "    </tr>\n",
              "    <tr>\n",
              "      <th>112</th>\n",
              "      <td>https://millercenter.org/the-presidency/presid...</td>\n",
              "      <td>Gerald Ford</td>\n",
              "      <td>\\nTranscript\\nThank you very much, Dr. Kleinja...</td>\n",
              "    </tr>\n",
              "    <tr>\n",
              "      <th>113</th>\n",
              "      <td>https://millercenter.org/the-presidency/presid...</td>\n",
              "      <td>Gerald Ford</td>\n",
              "      <td>\\nTranscript\\nI have come to a decision which ...</td>\n",
              "    </tr>\n",
              "  </tbody>\n",
              "</table>\n",
              "<p>114 rows × 3 columns</p>\n",
              "</div>\n",
              "      <button class=\"colab-df-convert\" onclick=\"convertToInteractive('df-7857d9e2-b40c-49d5-9eca-e3a9dba17c4c')\"\n",
              "              title=\"Convert this dataframe to an interactive table.\"\n",
              "              style=\"display:none;\">\n",
              "        \n",
              "  <svg xmlns=\"http://www.w3.org/2000/svg\" height=\"24px\"viewBox=\"0 0 24 24\"\n",
              "       width=\"24px\">\n",
              "    <path d=\"M0 0h24v24H0V0z\" fill=\"none\"/>\n",
              "    <path d=\"M18.56 5.44l.94 2.06.94-2.06 2.06-.94-2.06-.94-.94-2.06-.94 2.06-2.06.94zm-11 1L8.5 8.5l.94-2.06 2.06-.94-2.06-.94L8.5 2.5l-.94 2.06-2.06.94zm10 10l.94 2.06.94-2.06 2.06-.94-2.06-.94-.94-2.06-.94 2.06-2.06.94z\"/><path d=\"M17.41 7.96l-1.37-1.37c-.4-.4-.92-.59-1.43-.59-.52 0-1.04.2-1.43.59L10.3 9.45l-7.72 7.72c-.78.78-.78 2.05 0 2.83L4 21.41c.39.39.9.59 1.41.59.51 0 1.02-.2 1.41-.59l7.78-7.78 2.81-2.81c.8-.78.8-2.07 0-2.86zM5.41 20L4 18.59l7.72-7.72 1.47 1.35L5.41 20z\"/>\n",
              "  </svg>\n",
              "      </button>\n",
              "      \n",
              "  <style>\n",
              "    .colab-df-container {\n",
              "      display:flex;\n",
              "      flex-wrap:wrap;\n",
              "      gap: 12px;\n",
              "    }\n",
              "\n",
              "    .colab-df-convert {\n",
              "      background-color: #E8F0FE;\n",
              "      border: none;\n",
              "      border-radius: 50%;\n",
              "      cursor: pointer;\n",
              "      display: none;\n",
              "      fill: #1967D2;\n",
              "      height: 32px;\n",
              "      padding: 0 0 0 0;\n",
              "      width: 32px;\n",
              "    }\n",
              "\n",
              "    .colab-df-convert:hover {\n",
              "      background-color: #E2EBFA;\n",
              "      box-shadow: 0px 1px 2px rgba(60, 64, 67, 0.3), 0px 1px 3px 1px rgba(60, 64, 67, 0.15);\n",
              "      fill: #174EA6;\n",
              "    }\n",
              "\n",
              "    [theme=dark] .colab-df-convert {\n",
              "      background-color: #3B4455;\n",
              "      fill: #D2E3FC;\n",
              "    }\n",
              "\n",
              "    [theme=dark] .colab-df-convert:hover {\n",
              "      background-color: #434B5C;\n",
              "      box-shadow: 0px 1px 3px 1px rgba(0, 0, 0, 0.15);\n",
              "      filter: drop-shadow(0px 1px 2px rgba(0, 0, 0, 0.3));\n",
              "      fill: #FFFFFF;\n",
              "    }\n",
              "  </style>\n",
              "\n",
              "      <script>\n",
              "        const buttonEl =\n",
              "          document.querySelector('#df-7857d9e2-b40c-49d5-9eca-e3a9dba17c4c button.colab-df-convert');\n",
              "        buttonEl.style.display =\n",
              "          google.colab.kernel.accessAllowed ? 'block' : 'none';\n",
              "\n",
              "        async function convertToInteractive(key) {\n",
              "          const element = document.querySelector('#df-7857d9e2-b40c-49d5-9eca-e3a9dba17c4c');\n",
              "          const dataTable =\n",
              "            await google.colab.kernel.invokeFunction('convertToInteractive',\n",
              "                                                     [key], {});\n",
              "          if (!dataTable) return;\n",
              "\n",
              "          const docLinkHtml = 'Like what you see? Visit the ' +\n",
              "            '<a target=\"_blank\" href=https://colab.research.google.com/notebooks/data_table.ipynb>data table notebook</a>'\n",
              "            + ' to learn more about interactive tables.';\n",
              "          element.innerHTML = '';\n",
              "          dataTable['output_type'] = 'display_data';\n",
              "          await google.colab.output.renderOutput(dataTable, element);\n",
              "          const docLink = document.createElement('div');\n",
              "          docLink.innerHTML = docLinkHtml;\n",
              "          element.appendChild(docLink);\n",
              "        }\n",
              "      </script>\n",
              "    </div>\n",
              "  </div>\n",
              "  "
            ]
          },
          "metadata": {},
          "execution_count": 22
        }
      ]
    },
    {
      "cell_type": "code",
      "source": [
        "link_df.to_csv('data.csv')"
      ],
      "metadata": {
        "id": "khrBikDLSdK-"
      },
      "execution_count": 23,
      "outputs": []
    }
  ]
}